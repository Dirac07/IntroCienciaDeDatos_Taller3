{
  "nbformat": 4,
  "nbformat_minor": 0,
  "metadata": {
    "colab": {
      "name": "Proyecto3_TasaReingresoDesercion.ipynb",
      "provenance": [],
      "collapsed_sections": []
    },
    "kernelspec": {
      "name": "python3",
      "display_name": "Python 3"
    },
    "language_info": {
      "name": "python"
    }
  },
  "cells": [
    {
      "cell_type": "markdown",
      "source": [
        "##Importación de los datos y las librerías necesarias"
      ],
      "metadata": {
        "id": "gAjnrR7tvPOQ"
      }
    },
    {
      "cell_type": "markdown",
      "source": [
        "En primer lugar, importamos drive para tener acceso a los archivos de nuestra carpeta compartida"
      ],
      "metadata": {
        "id": "vEI9Zm__vZxt"
      }
    },
    {
      "cell_type": "code",
      "source": [
        "from google.colab import drive\n",
        "drive.mount('/content/drive')"
      ],
      "metadata": {
        "colab": {
          "base_uri": "https://localhost:8080/"
        },
        "id": "0yZ8wJc3AzW8",
        "outputId": "4d8630e2-9ac0-41e3-fcf9-5a4e64800bb8"
      },
      "execution_count": 1,
      "outputs": [
        {
          "output_type": "stream",
          "name": "stdout",
          "text": [
            "Mounted at /content/drive\n"
          ]
        }
      ]
    },
    {
      "cell_type": "markdown",
      "source": [
        "Importamos las librerías necesarias"
      ],
      "metadata": {
        "id": "aoow6degvfDz"
      }
    },
    {
      "cell_type": "code",
      "execution_count": 77,
      "metadata": {
        "id": "hrHKkTVf2hjx"
      },
      "outputs": [],
      "source": [
        "import matplotlib.pyplot as plt\n",
        "import numpy as np\n",
        "import pandas as pd\n",
        "import seaborn as sns"
      ]
    },
    {
      "cell_type": "code",
      "source": [
        "from sklearn.metrics import plot_confusion_matrix\n",
        "from sklearn.ensemble import AdaBoostClassifier\n",
        "from sklearn.tree import DecisionTreeClassifier\n",
        "from sklearn.model_selection import train_test_split\n",
        "from sklearn.metrics import f1_score\n",
        "from sklearn.tree import plot_tree"
      ],
      "metadata": {
        "id": "fWB8zccjgrqM"
      },
      "execution_count": 449,
      "outputs": []
    },
    {
      "cell_type": "markdown",
      "source": [
        "Y cargamos nuestros datos en DataFrames"
      ],
      "metadata": {
        "id": "o0vPmEYjvhYz"
      }
    },
    {
      "cell_type": "code",
      "source": [
        "f_total = pd.read_csv('./drive/MyDrive/Proyecto3_CienciaDatos/facultadTotal.csv', delimiter=';')\n",
        "f_matriculados = pd.read_csv('./drive/MyDrive/Proyecto3_CienciaDatos/facultadMatriculados.csv', delimiter=';')\n",
        "f_graduados = pd.read_csv('./drive/MyDrive/Proyecto3_CienciaDatos/facultadGraduados.csv', delimiter=';')"
      ],
      "metadata": {
        "id": "w0LhMjs-2loN"
      },
      "execution_count": 276,
      "outputs": []
    },
    {
      "cell_type": "code",
      "source": [
        "p_total = pd.read_csv('./drive/MyDrive/Proyecto3_CienciaDatos/pregradoTotal.csv', delimiter=';')\n",
        "p_matriculados = pd.read_csv('./drive/MyDrive/Proyecto3_CienciaDatos/pregradoMatriculados.csv', delimiter=';')\n",
        "p_graduados = pd.read_csv('./drive/MyDrive/Proyecto3_CienciaDatos/pregradoGraduados.csv', delimiter=';')\n",
        "p_cursos = pd.read_csv('./drive/MyDrive/Proyecto3_CienciaDatos/pregradoCursos.csv', delimiter=';')"
      ],
      "metadata": {
        "id": "ZUJpVwf2VIFf"
      },
      "execution_count": 366,
      "outputs": []
    },
    {
      "cell_type": "markdown",
      "source": [
        "## Preparación y visualización de los datos"
      ],
      "metadata": {
        "id": "zezMCEzSvnVI"
      }
    },
    {
      "cell_type": "markdown",
      "source": [
        "En primer lugar, trabajamos con los datos segregados por facultad. Utilizaremos el número de estudiantes activos en un periodo específico, la cantidad de estudiantes que se graduaron en ese periodo y los nuevos matriculados."
      ],
      "metadata": {
        "id": "CBdE9o0gvvMm"
      }
    },
    {
      "cell_type": "code",
      "source": [
        "years = ['2017-1', '2017-2', '2018-1', '2018-2', '2019-1', '2019-2', '2020-1', '2020-2', '2021-1']\n",
        "facultad = f_total['Facultad']\n",
        "f_desertores = pd.DataFrame(facultad)"
      ],
      "metadata": {
        "id": "ZY1BTwcIDVbP"
      },
      "execution_count": 277,
      "outputs": []
    },
    {
      "cell_type": "markdown",
      "source": [
        "Creamos un nuevo DataFrame donde utilizaremos nuestra ecuación para hallar la cantidad oculta de estudiantes que corresponde a la resta entre deserciones y reingresos "
      ],
      "metadata": {
        "id": "1uHCbINryGBW"
      }
    },
    {
      "cell_type": "code",
      "source": [
        "for i in range(len(years)-1):\n",
        "  f_desertores[years[i+1]] = f_total[years[i]] + f_matriculados[years[i+1]] - f_graduados[years[i+1]] - f_total[years[i+1]] "
      ],
      "metadata": {
        "id": "-KXx91XXEDkF"
      },
      "execution_count": 278,
      "outputs": []
    },
    {
      "cell_type": "markdown",
      "source": [
        "Normalizamos ahora esta cantidad dividiéndola entre los estudiantes totales activos en ese periodo, hallando así la tasa de Deserciones-Reingresos en cada uno de los periodos."
      ],
      "metadata": {
        "id": "PvCjMatcy1Up"
      }
    },
    {
      "cell_type": "code",
      "source": [
        "f_desertores = f_desertores[years[1:]]*100/f_total[years[1:]]\n",
        "f_desertores['Facultad'] = facultad\n",
        "f_desertores = f_desertores.melt(id_vars = 'Facultad', var_name='Periodo', value_name='Porcentaje').dropna()\n",
        "f_desertores.head()"
      ],
      "metadata": {
        "colab": {
          "base_uri": "https://localhost:8080/",
          "height": 206
        },
        "id": "22Z5ysEBH3J0",
        "outputId": "80ca6bcd-2204-4834-ee9c-8e105064a690"
      },
      "execution_count": 279,
      "outputs": [
        {
          "output_type": "execute_result",
          "data": {
            "text/plain": [
              "                Facultad Periodo  Porcentaje\n",
              "0         Administracion  2017-2   -3.445065\n",
              "1  Arquitectura y Diseno  2017-2    0.203390\n",
              "2    Artes y Humanidades  2017-2    0.260078\n",
              "3               Ciencias  2017-2   -0.954198\n",
              "4      Ciencias Sociales  2017-2    1.112565"
            ],
            "text/html": [
              "\n",
              "  <div id=\"df-03d7f2e6-593b-4f1c-ab25-39c5749442d9\">\n",
              "    <div class=\"colab-df-container\">\n",
              "      <div>\n",
              "<style scoped>\n",
              "    .dataframe tbody tr th:only-of-type {\n",
              "        vertical-align: middle;\n",
              "    }\n",
              "\n",
              "    .dataframe tbody tr th {\n",
              "        vertical-align: top;\n",
              "    }\n",
              "\n",
              "    .dataframe thead th {\n",
              "        text-align: right;\n",
              "    }\n",
              "</style>\n",
              "<table border=\"1\" class=\"dataframe\">\n",
              "  <thead>\n",
              "    <tr style=\"text-align: right;\">\n",
              "      <th></th>\n",
              "      <th>Facultad</th>\n",
              "      <th>Periodo</th>\n",
              "      <th>Porcentaje</th>\n",
              "    </tr>\n",
              "  </thead>\n",
              "  <tbody>\n",
              "    <tr>\n",
              "      <th>0</th>\n",
              "      <td>Administracion</td>\n",
              "      <td>2017-2</td>\n",
              "      <td>-3.445065</td>\n",
              "    </tr>\n",
              "    <tr>\n",
              "      <th>1</th>\n",
              "      <td>Arquitectura y Diseno</td>\n",
              "      <td>2017-2</td>\n",
              "      <td>0.203390</td>\n",
              "    </tr>\n",
              "    <tr>\n",
              "      <th>2</th>\n",
              "      <td>Artes y Humanidades</td>\n",
              "      <td>2017-2</td>\n",
              "      <td>0.260078</td>\n",
              "    </tr>\n",
              "    <tr>\n",
              "      <th>3</th>\n",
              "      <td>Ciencias</td>\n",
              "      <td>2017-2</td>\n",
              "      <td>-0.954198</td>\n",
              "    </tr>\n",
              "    <tr>\n",
              "      <th>4</th>\n",
              "      <td>Ciencias Sociales</td>\n",
              "      <td>2017-2</td>\n",
              "      <td>1.112565</td>\n",
              "    </tr>\n",
              "  </tbody>\n",
              "</table>\n",
              "</div>\n",
              "      <button class=\"colab-df-convert\" onclick=\"convertToInteractive('df-03d7f2e6-593b-4f1c-ab25-39c5749442d9')\"\n",
              "              title=\"Convert this dataframe to an interactive table.\"\n",
              "              style=\"display:none;\">\n",
              "        \n",
              "  <svg xmlns=\"http://www.w3.org/2000/svg\" height=\"24px\"viewBox=\"0 0 24 24\"\n",
              "       width=\"24px\">\n",
              "    <path d=\"M0 0h24v24H0V0z\" fill=\"none\"/>\n",
              "    <path d=\"M18.56 5.44l.94 2.06.94-2.06 2.06-.94-2.06-.94-.94-2.06-.94 2.06-2.06.94zm-11 1L8.5 8.5l.94-2.06 2.06-.94-2.06-.94L8.5 2.5l-.94 2.06-2.06.94zm10 10l.94 2.06.94-2.06 2.06-.94-2.06-.94-.94-2.06-.94 2.06-2.06.94z\"/><path d=\"M17.41 7.96l-1.37-1.37c-.4-.4-.92-.59-1.43-.59-.52 0-1.04.2-1.43.59L10.3 9.45l-7.72 7.72c-.78.78-.78 2.05 0 2.83L4 21.41c.39.39.9.59 1.41.59.51 0 1.02-.2 1.41-.59l7.78-7.78 2.81-2.81c.8-.78.8-2.07 0-2.86zM5.41 20L4 18.59l7.72-7.72 1.47 1.35L5.41 20z\"/>\n",
              "  </svg>\n",
              "      </button>\n",
              "      \n",
              "  <style>\n",
              "    .colab-df-container {\n",
              "      display:flex;\n",
              "      flex-wrap:wrap;\n",
              "      gap: 12px;\n",
              "    }\n",
              "\n",
              "    .colab-df-convert {\n",
              "      background-color: #E8F0FE;\n",
              "      border: none;\n",
              "      border-radius: 50%;\n",
              "      cursor: pointer;\n",
              "      display: none;\n",
              "      fill: #1967D2;\n",
              "      height: 32px;\n",
              "      padding: 0 0 0 0;\n",
              "      width: 32px;\n",
              "    }\n",
              "\n",
              "    .colab-df-convert:hover {\n",
              "      background-color: #E2EBFA;\n",
              "      box-shadow: 0px 1px 2px rgba(60, 64, 67, 0.3), 0px 1px 3px 1px rgba(60, 64, 67, 0.15);\n",
              "      fill: #174EA6;\n",
              "    }\n",
              "\n",
              "    [theme=dark] .colab-df-convert {\n",
              "      background-color: #3B4455;\n",
              "      fill: #D2E3FC;\n",
              "    }\n",
              "\n",
              "    [theme=dark] .colab-df-convert:hover {\n",
              "      background-color: #434B5C;\n",
              "      box-shadow: 0px 1px 3px 1px rgba(0, 0, 0, 0.15);\n",
              "      filter: drop-shadow(0px 1px 2px rgba(0, 0, 0, 0.3));\n",
              "      fill: #FFFFFF;\n",
              "    }\n",
              "  </style>\n",
              "\n",
              "      <script>\n",
              "        const buttonEl =\n",
              "          document.querySelector('#df-03d7f2e6-593b-4f1c-ab25-39c5749442d9 button.colab-df-convert');\n",
              "        buttonEl.style.display =\n",
              "          google.colab.kernel.accessAllowed ? 'block' : 'none';\n",
              "\n",
              "        async function convertToInteractive(key) {\n",
              "          const element = document.querySelector('#df-03d7f2e6-593b-4f1c-ab25-39c5749442d9');\n",
              "          const dataTable =\n",
              "            await google.colab.kernel.invokeFunction('convertToInteractive',\n",
              "                                                     [key], {});\n",
              "          if (!dataTable) return;\n",
              "\n",
              "          const docLinkHtml = 'Like what you see? Visit the ' +\n",
              "            '<a target=\"_blank\" href=https://colab.research.google.com/notebooks/data_table.ipynb>data table notebook</a>'\n",
              "            + ' to learn more about interactive tables.';\n",
              "          element.innerHTML = '';\n",
              "          dataTable['output_type'] = 'display_data';\n",
              "          await google.colab.output.renderOutput(dataTable, element);\n",
              "          const docLink = document.createElement('div');\n",
              "          docLink.innerHTML = docLinkHtml;\n",
              "          element.appendChild(docLink);\n",
              "        }\n",
              "      </script>\n",
              "    </div>\n",
              "  </div>\n",
              "  "
            ]
          },
          "metadata": {},
          "execution_count": 279
        }
      ]
    },
    {
      "cell_type": "markdown",
      "source": [
        "Graficamos los datos en forma de diagrama de barras para visualizar las diferencias en cada facultad al pasar los años."
      ],
      "metadata": {
        "id": "D5DPhsxYzCdU"
      }
    },
    {
      "cell_type": "code",
      "source": [
        "plt.figure(figsize=(20,8))\n",
        "plt.grid()\n",
        "plt.ylim(-7,7)\n",
        "sns.barplot(data=f_desertores, x='Periodo', y='Porcentaje', hue='Facultad')"
      ],
      "metadata": {
        "colab": {
          "base_uri": "https://localhost:8080/",
          "height": 493
        },
        "id": "lF1tstjnI6M7",
        "outputId": "da30ca4a-9ec2-4a4f-bfd3-2c0ce50b8c04"
      },
      "execution_count": 280,
      "outputs": [
        {
          "output_type": "execute_result",
          "data": {
            "text/plain": [
              "<matplotlib.axes._subplots.AxesSubplot at 0x7fcf1046d7d0>"
            ]
          },
          "metadata": {},
          "execution_count": 280
        },
        {
          "output_type": "display_data",
          "data": {
            "text/plain": [
              "<Figure size 1440x576 with 1 Axes>"
            ],
            "image/png": "[encoded data removed]"
          },
          "metadata": {
            "needs_background": "light"
          }
        }
      ]
    },
    {
      "cell_type": "markdown",
      "source": [
        "Realizamos ahora el mismo proceso, pero ahora para los datos obtenidos específicamente de la Facultad de Ciencias."
      ],
      "metadata": {
        "id": "ZlWhQ2-1zN1-"
      }
    },
    {
      "cell_type": "code",
      "source": [
        "years = ['2017-1', '2017-2', '2018-1', '2018-2', '2019-1', '2019-2', '2020-1', '2020-2', '2021-1']\n",
        "programa = p_total['Programa']\n",
        "p_desertores = pd.DataFrame(programa)"
      ],
      "metadata": {
        "id": "N-uJXCCJZqDN"
      },
      "execution_count": 367,
      "outputs": []
    },
    {
      "cell_type": "code",
      "source": [
        "for i in range(len(years)-1):\n",
        "  p_desertores[years[i+1]] = p_total[years[i]] + p_matriculados[years[i+1]] - p_graduados[years[i+1]] - p_total[years[i+1]] "
      ],
      "metadata": {
        "id": "qc2mKbDXZ54r"
      },
      "execution_count": 368,
      "outputs": []
    },
    {
      "cell_type": "code",
      "source": [
        "p_desertores = p_desertores[years[1:]]*100/p_total[years[1:]]\n",
        "p_desertores['Programa'] = programa\n",
        "p_desertoresPlot = p_desertores.melt(id_vars = 'Programa', var_name='Periodo', value_name='Porcentaje').dropna()\n",
        "p_desertoresPlot.head()"
      ],
      "metadata": {
        "colab": {
          "base_uri": "https://localhost:8080/",
          "height": 206
        },
        "id": "NbGCwNfVZ_y8",
        "outputId": "07829b98-deb2-4fb0-bf27-2d13d94fb01c"
      },
      "execution_count": 369,
      "outputs": [
        {
          "output_type": "execute_result",
          "data": {
            "text/plain": [
              "        Programa Periodo  Porcentaje\n",
              "0       Biologia  2017-2    2.008032\n",
              "1         Fisica  2017-2    0.000000\n",
              "2    Geociencias  2017-2    0.000000\n",
              "3    Matematicas  2017-2   -7.692308\n",
              "4  Microbiologia  2017-2   -5.813953"
            ],
            "text/html": [
              "\n",
              "  <div id=\"df-6f9b5d07-9552-477e-a664-30d582e75d56\">\n",
              "    <div class=\"colab-df-container\">\n",
              "      <div>\n",
              "<style scoped>\n",
              "    .dataframe tbody tr th:only-of-type {\n",
              "        vertical-align: middle;\n",
              "    }\n",
              "\n",
              "    .dataframe tbody tr th {\n",
              "        vertical-align: top;\n",
              "    }\n",
              "\n",
              "    .dataframe thead th {\n",
              "        text-align: right;\n",
              "    }\n",
              "</style>\n",
              "<table border=\"1\" class=\"dataframe\">\n",
              "  <thead>\n",
              "    <tr style=\"text-align: right;\">\n",
              "      <th></th>\n",
              "      <th>Programa</th>\n",
              "      <th>Periodo</th>\n",
              "      <th>Porcentaje</th>\n",
              "    </tr>\n",
              "  </thead>\n",
              "  <tbody>\n",
              "    <tr>\n",
              "      <th>0</th>\n",
              "      <td>Biologia</td>\n",
              "      <td>2017-2</td>\n",
              "      <td>2.008032</td>\n",
              "    </tr>\n",
              "    <tr>\n",
              "      <th>1</th>\n",
              "      <td>Fisica</td>\n",
              "      <td>2017-2</td>\n",
              "      <td>0.000000</td>\n",
              "    </tr>\n",
              "    <tr>\n",
              "      <th>2</th>\n",
              "      <td>Geociencias</td>\n",
              "      <td>2017-2</td>\n",
              "      <td>0.000000</td>\n",
              "    </tr>\n",
              "    <tr>\n",
              "      <th>3</th>\n",
              "      <td>Matematicas</td>\n",
              "      <td>2017-2</td>\n",
              "      <td>-7.692308</td>\n",
              "    </tr>\n",
              "    <tr>\n",
              "      <th>4</th>\n",
              "      <td>Microbiologia</td>\n",
              "      <td>2017-2</td>\n",
              "      <td>-5.813953</td>\n",
              "    </tr>\n",
              "  </tbody>\n",
              "</table>\n",
              "</div>\n",
              "      <button class=\"colab-df-convert\" onclick=\"convertToInteractive('df-6f9b5d07-9552-477e-a664-30d582e75d56')\"\n",
              "              title=\"Convert this dataframe to an interactive table.\"\n",
              "              style=\"display:none;\">\n",
              "        \n",
              "  <svg xmlns=\"http://www.w3.org/2000/svg\" height=\"24px\"viewBox=\"0 0 24 24\"\n",
              "       width=\"24px\">\n",
              "    <path d=\"M0 0h24v24H0V0z\" fill=\"none\"/>\n",
              "    <path d=\"M18.56 5.44l.94 2.06.94-2.06 2.06-.94-2.06-.94-.94-2.06-.94 2.06-2.06.94zm-11 1L8.5 8.5l.94-2.06 2.06-.94-2.06-.94L8.5 2.5l-.94 2.06-2.06.94zm10 10l.94 2.06.94-2.06 2.06-.94-2.06-.94-.94-2.06-.94 2.06-2.06.94z\"/><path d=\"M17.41 7.96l-1.37-1.37c-.4-.4-.92-.59-1.43-.59-.52 0-1.04.2-1.43.59L10.3 9.45l-7.72 7.72c-.78.78-.78 2.05 0 2.83L4 21.41c.39.39.9.59 1.41.59.51 0 1.02-.2 1.41-.59l7.78-7.78 2.81-2.81c.8-.78.8-2.07 0-2.86zM5.41 20L4 18.59l7.72-7.72 1.47 1.35L5.41 20z\"/>\n",
              "  </svg>\n",
              "      </button>\n",
              "      \n",
              "  <style>\n",
              "    .colab-df-container {\n",
              "      display:flex;\n",
              "      flex-wrap:wrap;\n",
              "      gap: 12px;\n",
              "    }\n",
              "\n",
              "    .colab-df-convert {\n",
              "      background-color: #E8F0FE;\n",
              "      border: none;\n",
              "      border-radius: 50%;\n",
              "      cursor: pointer;\n",
              "      display: none;\n",
              "      fill: #1967D2;\n",
              "      height: 32px;\n",
              "      padding: 0 0 0 0;\n",
              "      width: 32px;\n",
              "    }\n",
              "\n",
              "    .colab-df-convert:hover {\n",
              "      background-color: #E2EBFA;\n",
              "      box-shadow: 0px 1px 2px rgba(60, 64, 67, 0.3), 0px 1px 3px 1px rgba(60, 64, 67, 0.15);\n",
              "      fill: #174EA6;\n",
              "    }\n",
              "\n",
              "    [theme=dark] .colab-df-convert {\n",
              "      background-color: #3B4455;\n",
              "      fill: #D2E3FC;\n",
              "    }\n",
              "\n",
              "    [theme=dark] .colab-df-convert:hover {\n",
              "      background-color: #434B5C;\n",
              "      box-shadow: 0px 1px 3px 1px rgba(0, 0, 0, 0.15);\n",
              "      filter: drop-shadow(0px 1px 2px rgba(0, 0, 0, 0.3));\n",
              "      fill: #FFFFFF;\n",
              "    }\n",
              "  </style>\n",
              "\n",
              "      <script>\n",
              "        const buttonEl =\n",
              "          document.querySelector('#df-6f9b5d07-9552-477e-a664-30d582e75d56 button.colab-df-convert');\n",
              "        buttonEl.style.display =\n",
              "          google.colab.kernel.accessAllowed ? 'block' : 'none';\n",
              "\n",
              "        async function convertToInteractive(key) {\n",
              "          const element = document.querySelector('#df-6f9b5d07-9552-477e-a664-30d582e75d56');\n",
              "          const dataTable =\n",
              "            await google.colab.kernel.invokeFunction('convertToInteractive',\n",
              "                                                     [key], {});\n",
              "          if (!dataTable) return;\n",
              "\n",
              "          const docLinkHtml = 'Like what you see? Visit the ' +\n",
              "            '<a target=\"_blank\" href=https://colab.research.google.com/notebooks/data_table.ipynb>data table notebook</a>'\n",
              "            + ' to learn more about interactive tables.';\n",
              "          element.innerHTML = '';\n",
              "          dataTable['output_type'] = 'display_data';\n",
              "          await google.colab.output.renderOutput(dataTable, element);\n",
              "          const docLink = document.createElement('div');\n",
              "          docLink.innerHTML = docLinkHtml;\n",
              "          element.appendChild(docLink);\n",
              "        }\n",
              "      </script>\n",
              "    </div>\n",
              "  </div>\n",
              "  "
            ]
          },
          "metadata": {},
          "execution_count": 369
        }
      ]
    },
    {
      "cell_type": "code",
      "source": [
        "plt.figure(figsize=(20,8))\n",
        "plt.grid()\n",
        "plt.ylim(-15,15)\n",
        "sns.barplot(data=p_desertoresPlot, x='Periodo', y='Porcentaje', hue='Programa')"
      ],
      "metadata": {
        "colab": {
          "base_uri": "https://localhost:8080/",
          "height": 494
        },
        "id": "RBjLnQGwaJwW",
        "outputId": "249ddeaa-0baf-4f3b-eb78-e087ce65420e"
      },
      "execution_count": 370,
      "outputs": [
        {
          "output_type": "execute_result",
          "data": {
            "text/plain": [
              "<matplotlib.axes._subplots.AxesSubplot at 0x7fcf0dcf3150>"
            ]
          },
          "metadata": {},
          "execution_count": 370
        },
        {
          "output_type": "display_data",
          "data": {
            "text/plain": [
              "<Figure size 1440x576 with 1 Axes>"
            ],
            "image/png": "[encoded data removed]"
          },
          "metadata": {
            "needs_background": "light"
          }
        }
      ]
    },
    {
      "cell_type": "markdown",
      "source": [
        "## Definición de nuestro modelo"
      ],
      "metadata": {
        "id": "K54lp8Dr42WK"
      }
    },
    {
      "cell_type": "markdown",
      "source": [
        "Definimos ahora nuestro target (esta tasa de Desercion-Reingreso normalizada), siendo -1 para los casos en los que hay más reingresos que deserciones, y +1 para los que ocurre lo contrario."
      ],
      "metadata": {
        "id": "vPdlM442zZPD"
      }
    },
    {
      "cell_type": "code",
      "source": [
        "target = p_desertores[years[2:7]]\n",
        "target = target/np.abs(target)\n",
        "target"
      ],
      "metadata": {
        "colab": {
          "base_uri": "https://localhost:8080/",
          "height": 237
        },
        "id": "hbgdIKvgaW6p",
        "outputId": "fd0cf28d-daa1-4d08-dc3e-94494b1f68e3"
      },
      "execution_count": 428,
      "outputs": [
        {
          "output_type": "execute_result",
          "data": {
            "text/plain": [
              "   2018-1  2018-2  2019-1  2019-2  2020-1\n",
              "0    -1.0    -1.0    -1.0    -1.0    -1.0\n",
              "1     1.0     1.0     1.0     1.0     1.0\n",
              "2     1.0    -1.0     1.0     1.0     1.0\n",
              "3     1.0    -1.0     1.0    -1.0    -1.0\n",
              "4    -1.0    -1.0    -1.0    -1.0    -1.0\n",
              "5     1.0     1.0     1.0    -1.0     1.0"
            ],
            "text/html": [
              "\n",
              "  <div id=\"df-ef91be18-e196-471d-bd9c-aca798d9d1c6\">\n",
              "    <div class=\"colab-df-container\">\n",
              "      <div>\n",
              "<style scoped>\n",
              "    .dataframe tbody tr th:only-of-type {\n",
              "        vertical-align: middle;\n",
              "    }\n",
              "\n",
              "    .dataframe tbody tr th {\n",
              "        vertical-align: top;\n",
              "    }\n",
              "\n",
              "    .dataframe thead th {\n",
              "        text-align: right;\n",
              "    }\n",
              "</style>\n",
              "<table border=\"1\" class=\"dataframe\">\n",
              "  <thead>\n",
              "    <tr style=\"text-align: right;\">\n",
              "      <th></th>\n",
              "      <th>2018-1</th>\n",
              "      <th>2018-2</th>\n",
              "      <th>2019-1</th>\n",
              "      <th>2019-2</th>\n",
              "      <th>2020-1</th>\n",
              "    </tr>\n",
              "  </thead>\n",
              "  <tbody>\n",
              "    <tr>\n",
              "      <th>0</th>\n",
              "      <td>-1.0</td>\n",
              "      <td>-1.0</td>\n",
              "      <td>-1.0</td>\n",
              "      <td>-1.0</td>\n",
              "      <td>-1.0</td>\n",
              "    </tr>\n",
              "    <tr>\n",
              "      <th>1</th>\n",
              "      <td>1.0</td>\n",
              "      <td>1.0</td>\n",
              "      <td>1.0</td>\n",
              "      <td>1.0</td>\n",
              "      <td>1.0</td>\n",
              "    </tr>\n",
              "    <tr>\n",
              "      <th>2</th>\n",
              "      <td>1.0</td>\n",
              "      <td>-1.0</td>\n",
              "      <td>1.0</td>\n",
              "      <td>1.0</td>\n",
              "      <td>1.0</td>\n",
              "    </tr>\n",
              "    <tr>\n",
              "      <th>3</th>\n",
              "      <td>1.0</td>\n",
              "      <td>-1.0</td>\n",
              "      <td>1.0</td>\n",
              "      <td>-1.0</td>\n",
              "      <td>-1.0</td>\n",
              "    </tr>\n",
              "    <tr>\n",
              "      <th>4</th>\n",
              "      <td>-1.0</td>\n",
              "      <td>-1.0</td>\n",
              "      <td>-1.0</td>\n",
              "      <td>-1.0</td>\n",
              "      <td>-1.0</td>\n",
              "    </tr>\n",
              "    <tr>\n",
              "      <th>5</th>\n",
              "      <td>1.0</td>\n",
              "      <td>1.0</td>\n",
              "      <td>1.0</td>\n",
              "      <td>-1.0</td>\n",
              "      <td>1.0</td>\n",
              "    </tr>\n",
              "  </tbody>\n",
              "</table>\n",
              "</div>\n",
              "      <button class=\"colab-df-convert\" onclick=\"convertToInteractive('df-ef91be18-e196-471d-bd9c-aca798d9d1c6')\"\n",
              "              title=\"Convert this dataframe to an interactive table.\"\n",
              "              style=\"display:none;\">\n",
              "        \n",
              "  <svg xmlns=\"http://www.w3.org/2000/svg\" height=\"24px\"viewBox=\"0 0 24 24\"\n",
              "       width=\"24px\">\n",
              "    <path d=\"M0 0h24v24H0V0z\" fill=\"none\"/>\n",
              "    <path d=\"M18.56 5.44l.94 2.06.94-2.06 2.06-.94-2.06-.94-.94-2.06-.94 2.06-2.06.94zm-11 1L8.5 8.5l.94-2.06 2.06-.94-2.06-.94L8.5 2.5l-.94 2.06-2.06.94zm10 10l.94 2.06.94-2.06 2.06-.94-2.06-.94-.94-2.06-.94 2.06-2.06.94z\"/><path d=\"M17.41 7.96l-1.37-1.37c-.4-.4-.92-.59-1.43-.59-.52 0-1.04.2-1.43.59L10.3 9.45l-7.72 7.72c-.78.78-.78 2.05 0 2.83L4 21.41c.39.39.9.59 1.41.59.51 0 1.02-.2 1.41-.59l7.78-7.78 2.81-2.81c.8-.78.8-2.07 0-2.86zM5.41 20L4 18.59l7.72-7.72 1.47 1.35L5.41 20z\"/>\n",
              "  </svg>\n",
              "      </button>\n",
              "      \n",
              "  <style>\n",
              "    .colab-df-container {\n",
              "      display:flex;\n",
              "      flex-wrap:wrap;\n",
              "      gap: 12px;\n",
              "    }\n",
              "\n",
              "    .colab-df-convert {\n",
              "      background-color: #E8F0FE;\n",
              "      border: none;\n",
              "      border-radius: 50%;\n",
              "      cursor: pointer;\n",
              "      display: none;\n",
              "      fill: #1967D2;\n",
              "      height: 32px;\n",
              "      padding: 0 0 0 0;\n",
              "      width: 32px;\n",
              "    }\n",
              "\n",
              "    .colab-df-convert:hover {\n",
              "      background-color: #E2EBFA;\n",
              "      box-shadow: 0px 1px 2px rgba(60, 64, 67, 0.3), 0px 1px 3px 1px rgba(60, 64, 67, 0.15);\n",
              "      fill: #174EA6;\n",
              "    }\n",
              "\n",
              "    [theme=dark] .colab-df-convert {\n",
              "      background-color: #3B4455;\n",
              "      fill: #D2E3FC;\n",
              "    }\n",
              "\n",
              "    [theme=dark] .colab-df-convert:hover {\n",
              "      background-color: #434B5C;\n",
              "      box-shadow: 0px 1px 3px 1px rgba(0, 0, 0, 0.15);\n",
              "      filter: drop-shadow(0px 1px 2px rgba(0, 0, 0, 0.3));\n",
              "      fill: #FFFFFF;\n",
              "    }\n",
              "  </style>\n",
              "\n",
              "      <script>\n",
              "        const buttonEl =\n",
              "          document.querySelector('#df-ef91be18-e196-471d-bd9c-aca798d9d1c6 button.colab-df-convert');\n",
              "        buttonEl.style.display =\n",
              "          google.colab.kernel.accessAllowed ? 'block' : 'none';\n",
              "\n",
              "        async function convertToInteractive(key) {\n",
              "          const element = document.querySelector('#df-ef91be18-e196-471d-bd9c-aca798d9d1c6');\n",
              "          const dataTable =\n",
              "            await google.colab.kernel.invokeFunction('convertToInteractive',\n",
              "                                                     [key], {});\n",
              "          if (!dataTable) return;\n",
              "\n",
              "          const docLinkHtml = 'Like what you see? Visit the ' +\n",
              "            '<a target=\"_blank\" href=https://colab.research.google.com/notebooks/data_table.ipynb>data table notebook</a>'\n",
              "            + ' to learn more about interactive tables.';\n",
              "          element.innerHTML = '';\n",
              "          dataTable['output_type'] = 'display_data';\n",
              "          await google.colab.output.renderOutput(dataTable, element);\n",
              "          const docLink = document.createElement('div');\n",
              "          docLink.innerHTML = docLinkHtml;\n",
              "          element.appendChild(docLink);\n",
              "        }\n",
              "      </script>\n",
              "    </div>\n",
              "  </div>\n",
              "  "
            ]
          },
          "metadata": {},
          "execution_count": 428
        }
      ]
    },
    {
      "cell_type": "markdown",
      "source": [
        "Creamos ahora nuestro set de datos predictores, específicamente, para predecir si la tasa en un periodo es positiva o negativa, utilizaremos el número de estudiantes, el número de graduados, el de matriculados, y los cursos inscritos por los estudiantes del pregrado en el periodo inmediátamente anterior. El motivo por el que escogimos los años hasta el 2020-1, es porque la pandemia y sus consecuencias, al ser un evento impredecible, será muy problemático de predecir utilizando un entrenamiento de los años anteriores."
      ],
      "metadata": {
        "id": "_xYhp5er0KN8"
      }
    },
    {
      "cell_type": "code",
      "source": [
        "years_predictors = ['2017-2', '2018-1', '2018-2', '2019-1', '2019-2', '2020-1']\n",
        "\n",
        "year = years_predictors[0]\n",
        "next_year = years_predictors[1]\n",
        "predictors = pd.DataFrame([p_total[year], p_matriculados[year], p_graduados[year], p_cursos[year], target[next_year]]).T\n",
        "predictors.columns = ['x1', 'x2', 'x3', 'x4', 'y']\n",
        "data = predictors\n",
        "\n",
        "for i in range(1, len(years_predictors)-1):\n",
        "  year = years_predictors[i]\n",
        "  next_year = years_predictors[i+1]\n",
        "  predictors = pd.DataFrame([p_total[year], p_matriculados[year], p_graduados[year], p_cursos[year], target[next_year]]).T\n",
        "  predictors.columns = ['x1', 'x2', 'x3', 'x4', 'y']\n",
        "  data = pd.concat([data, predictors], axis=0)\n",
        "\n",
        "predictors= np.array(['Estudiantes totales', 'Matriculados', 'Graduados', 'Cursos inscritos'])"
      ],
      "metadata": {
        "id": "Pqj9z0jCbocf"
      },
      "execution_count": 442,
      "outputs": []
    },
    {
      "cell_type": "markdown",
      "source": [
        "Dividimos ahora los datos entre predictores y targets, y visualizamos si ambas clases objetivos están balanceadas."
      ],
      "metadata": {
        "id": "5nn98ow90nYv"
      }
    },
    {
      "cell_type": "code",
      "source": [
        "X = data[['x1', 'x2', 'x3', 'x4']]\n",
        "Y = data['y']\n",
        "plt.hist(Y, color='midnightblue')\n",
        "plt.xlabel('Clase')\n",
        "plt.ylabel('Cantidad')"
      ],
      "metadata": {
        "colab": {
          "base_uri": "https://localhost:8080/",
          "height": 296
        },
        "id": "Fpfhv5uBb-Z9",
        "outputId": "1d3e292a-84fa-48c3-b22f-ae8b22519f1a"
      },
      "execution_count": 443,
      "outputs": [
        {
          "output_type": "execute_result",
          "data": {
            "text/plain": [
              "Text(0, 0.5, 'Cantidad')"
            ]
          },
          "metadata": {},
          "execution_count": 443
        },
        {
          "output_type": "display_data",
          "data": {
            "text/plain": [
              "<Figure size 432x288 with 1 Axes>"
            ],
            "image/png": "[encoded data removed]"
          },
          "metadata": {
            "needs_background": "light"
          }
        }
      ]
    },
    {
      "cell_type": "markdown",
      "source": [
        "Escogemos un 20% de los datos aleátoriamente como test, y el otro 80% como entrenamiento."
      ],
      "metadata": {
        "id": "9fyIb4C10yLc"
      }
    },
    {
      "cell_type": "code",
      "source": [
        "X_train, X_test, Y_train, Y_test = train_test_split(X,Y, test_size=0.2)\n",
        "print(np.shape(X_train), np.shape(Y_train))"
      ],
      "metadata": {
        "colab": {
          "base_uri": "https://localhost:8080/"
        },
        "id": "DhPJ6uUOgdv-",
        "outputId": "3d50f418-5db1-446f-e88b-a63f31029f36"
      },
      "execution_count": 377,
      "outputs": [
        {
          "output_type": "stream",
          "name": "stdout",
          "text": [
            "(24, 4) (24,)\n"
          ]
        }
      ]
    },
    {
      "cell_type": "markdown",
      "source": [
        "Llamamos ahora un AdaBoost Clasificador para clasificar los datos, el número de estimadores y el ratio de aprendizaje es, inicialmente, arbitrario"
      ],
      "metadata": {
        "id": "1gc0LGtM2s5Y"
      }
    },
    {
      "cell_type": "code",
      "source": [
        "AdaB = AdaBoostClassifier(base_estimator=DecisionTreeClassifier(max_depth=2), n_estimators=10, learning_rate=0.1)\n",
        "AdaB.fit(X_train, Y_train)\n",
        "print(f1_score(Y_test, AdaB.predict(X_test)))"
      ],
      "metadata": {
        "colab": {
          "base_uri": "https://localhost:8080/"
        },
        "id": "Ovcixd6Hg2Rb",
        "outputId": "f2167cf8-132f-46f8-9bd5-0f1175580ffe"
      },
      "execution_count": 378,
      "outputs": [
        {
          "output_type": "stream",
          "name": "stdout",
          "text": [
            "0.8\n"
          ]
        }
      ]
    },
    {
      "cell_type": "markdown",
      "source": [
        "Visualizamos ahora nuestro árbol de desición"
      ],
      "metadata": {
        "id": "OlI1pqYi3Hgv"
      }
    },
    {
      "cell_type": "code",
      "source": [
        "plt.figure(figsize=(10,10))\n",
        "_= plot_tree(AdaB.estimators_[0])"
      ],
      "metadata": {
        "colab": {
          "base_uri": "https://localhost:8080/",
          "height": 575
        },
        "id": "q9U48P6bg8y2",
        "outputId": "4c1916cf-2962-4f8d-a4ba-fba77f70566e"
      },
      "execution_count": 379,
      "outputs": [
        {
          "output_type": "display_data",
          "data": {
            "text/plain": [
              "<Figure size 720x720 with 1 Axes>"
            ],
            "image/png": "[encoded data removed]"
          },
          "metadata": {
            "needs_background": "light"
          }
        }
      ]
    },
    {
      "cell_type": "markdown",
      "source": [
        "Y realizamos un search grid para hallar los metaparámetros que nos ofrecen mejores resultados en la clasificación."
      ],
      "metadata": {
        "id": "FvMMdj-p3atU"
      }
    },
    {
      "cell_type": "code",
      "source": [
        "learning_rates = [0.01,0.1,1,10]\n",
        "n_estimators = np.arange(1,220,20)\n",
        "\n",
        "fig = plt.figure(figsize=(10,5))\n",
        "\n",
        "for lr in learning_rates:\n",
        "    f1_test = []\n",
        "    f1_train = []\n",
        "\n",
        "    for ne in n_estimators:\n",
        "        AdaB = AdaBoostClassifier(base_estimator=DecisionTreeClassifier(max_depth=2), n_estimators=ne, learning_rate=lr)\n",
        "        AdaB.fit(X_train, Y_train)\n",
        "        f1_test.append( f1_score(Y_test, AdaB.predict(X_test)) )\n",
        "        f1_train.append( f1_score(Y_train, AdaB.predict(X_train)) )\n",
        "        \n",
        "    plt.subplot(1,2,1)\n",
        "    plt.plot(n_estimators,f1_test, label=f'lr:{lr}')\n",
        "    \n",
        "    plt.subplot(1,2,2)\n",
        "    plt.plot(n_estimators,f1_train, label=f'lr:{lr}')\n",
        "\n",
        "    \n",
        "plt.subplot(1,2,1)\n",
        "plt.grid()\n",
        "plt.legend()\n",
        "plt.xlabel('N Estimadores')\n",
        "plt.ylabel('F1_test')\n",
        "\n",
        "plt.subplot(1,2,2)\n",
        "plt.grid()\n",
        "plt.legend()\n",
        "plt.xlabel('N Estimadores')\n",
        "plt.ylabel('F1_train')\n",
        "\n",
        "plt.show()"
      ],
      "metadata": {
        "colab": {
          "base_uri": "https://localhost:8080/",
          "height": 545
        },
        "id": "5OC8EHevg-qg",
        "outputId": "37fedd1f-7d29-4f18-9c4f-9598cb90f26b"
      },
      "execution_count": 407,
      "outputs": [
        {
          "output_type": "stream",
          "name": "stderr",
          "text": [
            "/usr/local/lib/python3.7/dist-packages/ipykernel_launcher.py:16: MatplotlibDeprecationWarning: Adding an axes using the same arguments as a previous axes currently reuses the earlier instance.  In a future version, a new instance will always be created and returned.  Meanwhile, this warning can be suppressed, and the future behavior ensured, by passing a unique label to each axes instance.\n",
            "  app.launch_new_instance()\n",
            "/usr/local/lib/python3.7/dist-packages/ipykernel_launcher.py:19: MatplotlibDeprecationWarning: Adding an axes using the same arguments as a previous axes currently reuses the earlier instance.  In a future version, a new instance will always be created and returned.  Meanwhile, this warning can be suppressed, and the future behavior ensured, by passing a unique label to each axes instance.\n",
            "/usr/local/lib/python3.7/dist-packages/ipykernel_launcher.py:16: MatplotlibDeprecationWarning: Adding an axes using the same arguments as a previous axes currently reuses the earlier instance.  In a future version, a new instance will always be created and returned.  Meanwhile, this warning can be suppressed, and the future behavior ensured, by passing a unique label to each axes instance.\n",
            "  app.launch_new_instance()\n",
            "/usr/local/lib/python3.7/dist-packages/ipykernel_launcher.py:19: MatplotlibDeprecationWarning: Adding an axes using the same arguments as a previous axes currently reuses the earlier instance.  In a future version, a new instance will always be created and returned.  Meanwhile, this warning can be suppressed, and the future behavior ensured, by passing a unique label to each axes instance.\n",
            "/usr/local/lib/python3.7/dist-packages/ipykernel_launcher.py:16: MatplotlibDeprecationWarning: Adding an axes using the same arguments as a previous axes currently reuses the earlier instance.  In a future version, a new instance will always be created and returned.  Meanwhile, this warning can be suppressed, and the future behavior ensured, by passing a unique label to each axes instance.\n",
            "  app.launch_new_instance()\n",
            "/usr/local/lib/python3.7/dist-packages/ipykernel_launcher.py:19: MatplotlibDeprecationWarning: Adding an axes using the same arguments as a previous axes currently reuses the earlier instance.  In a future version, a new instance will always be created and returned.  Meanwhile, this warning can be suppressed, and the future behavior ensured, by passing a unique label to each axes instance.\n",
            "/usr/local/lib/python3.7/dist-packages/ipykernel_launcher.py:23: MatplotlibDeprecationWarning: Adding an axes using the same arguments as a previous axes currently reuses the earlier instance.  In a future version, a new instance will always be created and returned.  Meanwhile, this warning can be suppressed, and the future behavior ensured, by passing a unique label to each axes instance.\n",
            "/usr/local/lib/python3.7/dist-packages/ipykernel_launcher.py:29: MatplotlibDeprecationWarning: Adding an axes using the same arguments as a previous axes currently reuses the earlier instance.  In a future version, a new instance will always be created and returned.  Meanwhile, this warning can be suppressed, and the future behavior ensured, by passing a unique label to each axes instance.\n"
          ]
        },
        {
          "output_type": "display_data",
          "data": {
            "text/plain": [
              "<Figure size 720x360 with 2 Axes>"
            ],
            "image/png": "[encoded data removed]"
          },
          "metadata": {
            "needs_background": "light"
          }
        }
      ]
    },
    {
      "cell_type": "markdown",
      "source": [
        "Ya con los resultados de los mejores metaparámetros obtenidos, podemos crear nuevamente nuestro modelo para que prediga de mejor manera los datos."
      ],
      "metadata": {
        "id": "XIYCdu4E34AX"
      }
    },
    {
      "cell_type": "code",
      "source": [
        "AdaB = AdaBoostClassifier(base_estimator=DecisionTreeClassifier(max_depth=2), n_estimators=20, learning_rate=0.01)\n",
        "AdaB.fit(X_train, Y_train)\n",
        "f1_score(Y_test,AdaB.predict(X_test))"
      ],
      "metadata": {
        "colab": {
          "base_uri": "https://localhost:8080/"
        },
        "id": "om4dmht8hE3Q",
        "outputId": "f00d6e63-d70d-4499-a65d-c5e986dcba92"
      },
      "execution_count": 417,
      "outputs": [
        {
          "output_type": "execute_result",
          "data": {
            "text/plain": [
              "1.0"
            ]
          },
          "metadata": {},
          "execution_count": 417
        }
      ]
    },
    {
      "cell_type": "markdown",
      "source": [
        "## Resultados y conclusiones"
      ],
      "metadata": {
        "id": "DK3aiMk046ZR"
      }
    },
    {
      "cell_type": "markdown",
      "source": [
        "Para concluir, graficamos la importancia de cada uno de nuestros 4 predictores, para visualizar cuales de ellos son los que de mejor manera influyen en nuestra predicción de la tasa."
      ],
      "metadata": {
        "id": "RDn86fG64EZG"
      }
    },
    {
      "cell_type": "code",
      "source": [
        "ii = np.argsort(AdaB.feature_importances_)\n",
        "\n",
        "importances = AdaB.feature_importances_[ii]\n",
        "predictorsPlot = predictors[ii]\n",
        "\n",
        "a = pd.Series(importances, index=predictorsPlot)\n",
        "a.plot(kind='barh')\n",
        "plt.xlabel('Importancia')"
      ],
      "metadata": {
        "colab": {
          "base_uri": "https://localhost:8080/",
          "height": 296
        },
        "id": "GXZOnnsntwvi",
        "outputId": "8f051fd2-97a1-440e-a6e5-a9f37e66b5ae"
      },
      "execution_count": 444,
      "outputs": [
        {
          "output_type": "execute_result",
          "data": {
            "text/plain": [
              "Text(0.5, 0, 'Importancia')"
            ]
          },
          "metadata": {},
          "execution_count": 444
        },
        {
          "output_type": "display_data",
          "data": {
            "text/plain": [
              "<Figure size 432x288 with 1 Axes>"
            ],
            "image/png": "[encoded data removed]"
          },
          "metadata": {
            "needs_background": "light"
          }
        }
      ]
    },
    {
      "cell_type": "markdown",
      "source": [
        "Finalmente, graficamos nuestra matrix de confusión para verificar que las predicciones son completamente concordantes con nuestro F1_Score hallado."
      ],
      "metadata": {
        "id": "uH9Wku7t4VZ4"
      }
    },
    {
      "cell_type": "code",
      "source": [
        "plot_confusion_matrix(AdaB, X_test, Y_test, normalize='true', display_labels=['Negative', 'Positive'], colorbar=False)"
      ],
      "metadata": {
        "colab": {
          "base_uri": "https://localhost:8080/",
          "height": 351
        },
        "id": "k4Q8GUpHkXIg",
        "outputId": "9760f843-52fe-46ef-bbd8-f7dd0f028413"
      },
      "execution_count": 446,
      "outputs": [
        {
          "output_type": "stream",
          "name": "stderr",
          "text": [
            "/usr/local/lib/python3.7/dist-packages/sklearn/utils/deprecation.py:87: FutureWarning: Function plot_confusion_matrix is deprecated; Function `plot_confusion_matrix` is deprecated in 1.0 and will be removed in 1.2. Use one of the class methods: ConfusionMatrixDisplay.from_predictions or ConfusionMatrixDisplay.from_estimator.\n",
            "  warnings.warn(msg, category=FutureWarning)\n"
          ]
        },
        {
          "output_type": "execute_result",
          "data": {
            "text/plain": [
              "<sklearn.metrics._plot.confusion_matrix.ConfusionMatrixDisplay at 0x7fcf0bf20c90>"
            ]
          },
          "metadata": {},
          "execution_count": 446
        },
        {
          "output_type": "display_data",
          "data": {
            "text/plain": [
              "<Figure size 432x288 with 1 Axes>"
            ],
            "image/png": "[encoded data removed]"
          },
          "metadata": {
            "needs_background": "light"
          }
        }
      ]
    }
  ]
}